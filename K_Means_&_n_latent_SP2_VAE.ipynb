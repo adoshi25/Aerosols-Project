{
  "cells": [
    {
      "cell_type": "code",
      "execution_count": null,
      "metadata": {
        "id": "a66b870a"
      },
      "outputs": [],
      "source": [
        "import os\n",
        "import math\n",
        "import numpy as np\n",
        "import seaborn as sns\n",
        "import pandas as pd\n",
        "import time\n",
        "\n",
        "import torch\n",
        "\n",
        "from torch.nn import Conv1d, ConvTranspose1d\n",
        "from torch.nn import Linear as Lin, ReLU, Sigmoid, ConstantPad1d\n",
        "from torch.utils.data import Dataset, DataLoader\n",
        "from sklearn.model_selection import StratifiedKFold\n",
        "\n",
        "from matplotlib import pyplot as plt\n",
        "from tqdm import tqdm"
      ],
      "id": "a66b870a"
    },
    {
      "cell_type": "code",
      "execution_count": null,
      "metadata": {
        "colab": {
          "base_uri": "https://localhost:8080/"
        },
        "id": "o6nZfdW4fUSq",
        "outputId": "fd067e38-f041-4192-d29b-33b83dfcb549"
      },
      "outputs": [
        {
          "name": "stdout",
          "output_type": "stream",
          "text": [
            "Mounted at /content/drive\n"
          ]
        }
      ],
      "source": [
        "from google.colab import drive\n",
        "drive.mount('/content/drive')"
      ],
      "id": "o6nZfdW4fUSq"
    },
    {
      "cell_type": "code",
      "execution_count": null,
      "metadata": {
        "id": "9ccdc51e"
      },
      "outputs": [],
      "source": [
        "X_train = np.load(\"/content/drive/MyDrive/Aerosols_Proj/Lab_X_train.npy\")\n",
        "Y_train = np.load(\"/content/drive/MyDrive/Aerosols_Proj/Lab_Y_train.npy\")\n",
        "\n",
        "X_val = np.load(\"/content/drive/MyDrive/Aerosols_Proj/Lab_X_val.npy\")\n",
        "Y_val = np.load(\"/content/drive/MyDrive/Aerosols_Proj/Lab_Y_val.npy\")\n",
        "\n",
        "X_test = np.load(\"/content/drive/MyDrive/Aerosols_Proj/Lab_X_test.npy\")\n",
        "Y_test = np.load(\"/content/drive/MyDrive/Aerosols_Proj/Lab_Y_test.npy\")"
      ],
      "id": "9ccdc51e"
    },
    {
      "cell_type": "code",
      "execution_count": null,
      "metadata": {
        "colab": {
          "base_uri": "https://localhost:8080/"
        },
        "id": "452f00d8",
        "outputId": "f8646130-2498-4e60-9379-08b61a583cbc"
      },
      "outputs": [
        {
          "name": "stdout",
          "output_type": "stream",
          "text": [
            "3.088258983890954 2.6634138785625776 2.6445167286245352\n",
            "1.0 0.8624321640301338 0.8563131338462618\n",
            "132.61664460622106 132.6009265387161 132.59679020516216\n",
            "1.0 0.9998814774152096 0.9998502872613174\n",
            "132.73494374586366 132.72832561217737 132.7448709463931\n",
            "1.0 0.9999501402306016 1.0000747896540978\n",
            "5.074349442379182 5.074349442379182 5.074349442379182\n",
            "1.0 1.0 1.0\n"
          ]
        }
      ],
      "source": [
        "# Divide by the maximum of the training data set for that channel\n",
        "for i in range(0,4):\n",
        "    print(np.max(X_train[:,:,i]),np.max(X_val[:,:,i]),np.max(X_test[:,:,i]))\n",
        "    s0 = np.max(X_train[:,:,i])\n",
        "\n",
        "    X_train[:,:,i]=X_train[:,:,i]/s0\n",
        "    X_val[:,:,i]=X_val[:,:,i]/s0\n",
        "    X_test[:,:,i]=X_test[:,:,i]/s0\n",
        "    print(np.max(X_train[:,:,i]),np.max(X_val[:,:,i]),np.max(X_test[:,:,i]))"
      ],
      "id": "452f00d8"
    },
    {
      "cell_type": "code",
      "execution_count": null,
      "metadata": {
        "id": "ea1c768e"
      },
      "outputs": [],
      "source": [
        "# Switch the location of the time axis and channel axis because CNN layers in pytorch expect channels first\n",
        "tX_train = np.moveaxis(X_train,2,1)\n",
        "tY_train = Y_train\n",
        "\n",
        "tX_val = np.moveaxis(X_val,2,1)\n",
        "tY_val = Y_val\n",
        "\n",
        "tX_test = np.moveaxis(X_test,2,1)\n",
        "tY_test = Y_test"
      ],
      "id": "ea1c768e"
    },
    {
      "cell_type": "code",
      "execution_count": null,
      "metadata": {
        "colab": {
          "base_uri": "https://localhost:8080/"
        },
        "id": "ec8d2dc4",
        "outputId": "a4938885-d68f-42dc-ecb2-30801d561f02"
      },
      "outputs": [
        {
          "data": {
            "text/plain": [
              "(140082, 400, 4)"
            ]
          },
          "execution_count": 9,
          "metadata": {},
          "output_type": "execute_result"
        }
      ],
      "source": [
        "X_train.shape"
      ],
      "id": "ec8d2dc4"
    },
    {
      "cell_type": "code",
      "execution_count": null,
      "metadata": {
        "id": "779426d4"
      },
      "outputs": [],
      "source": [
        "dat = X_val\n",
        "ys = tY_val\n",
        "i0 = np.min(dat[:,:,0],axis=1)\n",
        "i1 = np.min(dat[:,:,1],axis=1)\n",
        "i2 = np.min(dat[:,:,2],axis=1)\n",
        "i3 = np.min(dat[:,:,3],axis=1)\n",
        "\n",
        "s0 = np.max(dat[:,:,0],axis=1)\n",
        "s1 = np.max(dat[:,:,1],axis=1)\n",
        "s2 = np.max(dat[:,:,2],axis=1)\n",
        "s3 = np.max(dat[:,:,3],axis=1)"
      ],
      "id": "779426d4"
    },
    {
      "cell_type": "code",
      "execution_count": null,
      "metadata": {
        "colab": {
          "base_uri": "https://localhost:8080/",
          "height": 309
        },
        "id": "ee15543c",
        "outputId": "fa10bf28-f6a8-4ab4-e332-3ab055f7f5ba"
      },
      "outputs": [
        {
          "data": {
            "text/plain": [
              "<matplotlib.collections.PathCollection at 0x7f67ef273be0>"
            ]
          },
          "execution_count": 11,
          "metadata": {},
          "output_type": "execute_result"
        },
        {
          "data": {
            "image/png": "[encoded data removed]",
            "text/plain": [
              "<Figure size 1200x300 with 4 Axes>"
            ]
          },
          "metadata": {},
          "output_type": "display_data"
        }
      ],
      "source": [
        "fig, axes = plt.subplots(nrows=1, ncols=4, figsize=(12,3))\n",
        "axes[0].scatter(i0,s0,c=ys,cmap='rainbow',s=0.3)\n",
        "axes[1].scatter(i1,s1,c=ys,cmap='rainbow',s=0.3)\n",
        "axes[2].scatter(i2,s2,c=ys,cmap='rainbow',s=0.3)\n",
        "axes[3].scatter(i3,s3,c=ys,cmap='rainbow',s=0.3)"
      ],
      "id": "ee15543c"
    },
    {
      "cell_type": "markdown",
      "metadata": {
        "id": "7dd80b23"
      },
      "source": [
        "## Set up the pytorch data loaders"
      ],
      "id": "7dd80b23"
    },
    {
      "cell_type": "code",
      "execution_count": null,
      "metadata": {
        "id": "9b857c87"
      },
      "outputs": [],
      "source": [
        "class SP2Datasets(Dataset):\n",
        "    def __init__(self,purpose,latent=False):\n",
        "\n",
        "        if purpose == \"train\":\n",
        "            self.X = tX_train\n",
        "            self.Y = tY_train\n",
        "        elif purpose == \"val\":\n",
        "            self.X = tX_val\n",
        "            self.Y = tY_val\n",
        "        else:\n",
        "            self.X = tX_test\n",
        "            self.Y = tY_test\n",
        "    def __len__(self):\n",
        "        return int(self.X.shape[0])\n",
        "    def __getitem__(self,idx):\n",
        "\n",
        "        X = self.X[idx,:,:]\n",
        "        Y = self.Y[idx]\n",
        "\n",
        "        return X,Y"
      ],
      "id": "9b857c87"
    },
    {
      "cell_type": "code",
      "execution_count": null,
      "metadata": {
        "id": "503aac16"
      },
      "outputs": [],
      "source": [
        "bs = 500\n",
        "traindataset = SP2Datasets(\"train\",bs)\n",
        "valdataset = SP2Datasets(\"val\",bs)\n",
        "testdataset = SP2Datasets(\"test\",bs)"
      ],
      "id": "503aac16"
    },
    {
      "cell_type": "code",
      "execution_count": null,
      "metadata": {
        "id": "e511bb50"
      },
      "outputs": [],
      "source": [
        "# disable auto load the data in chunks from memory\n",
        "trainloader = DataLoader(traindataset, batch_size=bs, shuffle=True)\n",
        "valloader = DataLoader(valdataset, batch_size=bs, shuffle=True)\n",
        "testloader = DataLoader(testdataset, batch_size=bs, shuffle=True)"
      ],
      "id": "e511bb50"
    },
    {
      "cell_type": "code",
      "execution_count": null,
      "metadata": {
        "colab": {
          "base_uri": "https://localhost:8080/"
        },
        "id": "7825fcf1",
        "outputId": "3c90fd6f-65ad-4fb8-aeb6-977139b4c51c"
      },
      "outputs": [
        {
          "name": "stdout",
          "output_type": "stream",
          "text": [
            "281 140082\n"
          ]
        }
      ],
      "source": [
        "i = 0\n",
        "j = 0\n",
        "for data in trainloader:\n",
        "    x,y=data\n",
        "\n",
        "    #print(x.shape,y.shape)\n",
        "    i = i+1\n",
        "    j = j+x.shape[0]\n",
        "print(i,j)"
      ],
      "id": "7825fcf1"
    },
    {
      "cell_type": "code",
      "execution_count": null,
      "metadata": {
        "id": "68f1a1bf"
      },
      "outputs": [],
      "source": [
        "st = 2\n",
        "c1 = Conv1d(in_channels=4,out_channels=4,kernel_size=4,stride=st,padding=1)\n",
        "c2 = Conv1d(in_channels=4,out_channels=4,kernel_size=4,stride=st,padding=1)\n",
        "c3 = Conv1d(in_channels=4,out_channels=4,kernel_size=4,stride=st,padding=1)\n",
        "c4 = Conv1d(in_channels=4,out_channels=4,kernel_size=4,stride=st,padding=1)\n",
        "n_latent = 3\n",
        "lin = Lin(100,n_latent)"
      ],
      "id": "68f1a1bf"
    },
    {
      "cell_type": "code",
      "execution_count": null,
      "metadata": {
        "colab": {
          "base_uri": "https://localhost:8080/"
        },
        "id": "109ecce8",
        "outputId": "79af7c70-1092-4996-cb56-0040f8eff170"
      },
      "outputs": [
        {
          "name": "stdout",
          "output_type": "stream",
          "text": [
            "torch.Size([82, 4, 400]) torch.Size([82, 4, 200]) torch.Size([82, 4, 100]) torch.Size([82, 4, 50]) torch.Size([82, 4, 25]) torch.Size([82, 100])\n"
          ]
        }
      ],
      "source": [
        "x2 = c1(x.float())\n",
        "x3 = c2(x2)\n",
        "x4 = c3(x3)\n",
        "x5 = c4(x4)\n",
        "x6 = x5.view(-1,100)\n",
        "print(x.shape,x2.shape,x3.shape,x4.shape,x5.shape,x6.shape)"
      ],
      "id": "109ecce8"
    },
    {
      "cell_type": "code",
      "execution_count": null,
      "metadata": {
        "id": "166f8c72"
      },
      "outputs": [],
      "source": [],
      "id": "166f8c72"
    },
    {
      "cell_type": "code",
      "execution_count": null,
      "metadata": {
        "id": "02b48189"
      },
      "outputs": [],
      "source": [],
      "id": "02b48189"
    },
    {
      "cell_type": "code",
      "execution_count": null,
      "metadata": {
        "id": "00b7cf5d"
      },
      "outputs": [],
      "source": [],
      "id": "00b7cf5d"
    },
    {
      "cell_type": "markdown",
      "metadata": {
        "id": "b0bc72c4"
      },
      "source": [
        "## Set up the model"
      ],
      "id": "b0bc72c4"
    },
    {
      "cell_type": "code",
      "execution_count": null,
      "metadata": {
        "id": "4742d1fc"
      },
      "outputs": [],
      "source": [
        "class Encoder(torch.nn.Module):\n",
        "    def __init__(self,n_channels=4,n_steps=400,n_latent=10):\n",
        "        super(Encoder, self).__init__()\n",
        "        self.n_layers = 4\n",
        "        self.n_steps = n_steps\n",
        "        self.c1 = Conv1d(in_channels=n_channels,out_channels=n_channels,kernel_size=4,stride=2,padding=1)\n",
        "        self.activation1 = ReLU()\n",
        "        self.c2 = Conv1d(in_channels=n_channels,out_channels=n_channels,kernel_size=4,stride=2,padding=1)\n",
        "        self.activation2 = ReLU()\n",
        "        self.c3 = Conv1d(in_channels=n_channels,out_channels=n_channels,kernel_size=4,stride=2,padding=1)\n",
        "        self.activation3 = ReLU()\n",
        "        self.c4 = Conv1d(in_channels=n_channels,out_channels=n_channels,kernel_size=4,stride=2,padding=1)\n",
        "        self.activation4 = ReLU()\n",
        "        self.lin = Lin(int(self.n_steps/self.n_layers),n_latent)\n",
        "\n",
        "    def forward(self,x):\n",
        "\n",
        "        x = self.c1(x)\n",
        "        x = self.activation1(x)\n",
        "        x = self.c2(x)\n",
        "        x = self.activation2(x)\n",
        "        x = self.c3(x)\n",
        "        x = self.activation3(x)\n",
        "        x = self.c4(x)\n",
        "        x = self.activation4(x)\n",
        "        x = x.view(-1,int(self.n_steps/self.n_layers))\n",
        "        return self.lin(x)\n",
        "\n",
        "class Decoder(torch.nn.Module):\n",
        "    def __init__(self,n_channels=4,n_steps=400,n_latent=10):\n",
        "        super(Decoder, self).__init__()\n",
        "\n",
        "        self.n_layers = 4\n",
        "        self.n_steps = n_steps\n",
        "        self.n_latent = n_latent\n",
        "        self.n_channels = n_channels\n",
        "\n",
        "        self.lin = Lin(n_latent,int(self.n_steps/self.n_layers))\n",
        "        self.conv1 = ConvTranspose1d(in_channels=n_channels,out_channels=n_channels,kernel_size=4,stride=2,padding=1)\n",
        "        self.activation1 = ReLU()\n",
        "        self.conv2 = ConvTranspose1d(in_channels=n_channels,out_channels=n_channels,kernel_size=4,stride=2,padding=1)\n",
        "        self.activation2 = ReLU()\n",
        "        self.conv3 = ConvTranspose1d(in_channels=n_channels,out_channels=n_channels,kernel_size=4,stride=2,padding=1)\n",
        "        self.activation3 = ReLU()\n",
        "        self.conv4 = ConvTranspose1d(in_channels=n_channels,out_channels=n_channels,kernel_size=4,stride=2,padding=1)\n",
        "        self.activation4 = ReLU()\n",
        "        self.lin2 = Lin(n_steps,n_steps)\n",
        "        self.activation5 = ReLU()\n",
        "\n",
        "    def forward(self,x):\n",
        "\n",
        "        inp = x\n",
        "\n",
        "        x = self.lin(inp)\n",
        "        x = x.reshape(-1,self.n_channels,int(self.n_steps/self.n_layers/self.n_channels))\n",
        "        x = self.conv1(x)\n",
        "        x = self.activation1(x)\n",
        "        x = self.conv2(x)\n",
        "        x = self.activation2(x)\n",
        "        x = self.conv3(x)\n",
        "        x = self.activation3(x)\n",
        "        x = self.conv4(x)\n",
        "        x = self.activation4(x)\n",
        "\n",
        "        x = self.lin2(x)\n",
        "\n",
        "        return x #self.activation5(x)\n",
        "\n",
        "class SP2AutoEncoder(torch.nn.Module):\n",
        "    def __init__(self,n_channels=4,n_steps=400,n_latent=10):\n",
        "        super(SP2AutoEncoder, self).__init__()\n",
        "\n",
        "        self.encoder = Encoder(n_channels=n_channels,n_steps=n_steps,n_latent=n_latent)\n",
        "        self.decoder = Decoder(n_channels=n_channels,n_steps=n_steps,n_latent=n_latent)\n",
        "\n",
        "    def forward(self,x):\n",
        "\n",
        "        bs = x.shape[0]\n",
        "\n",
        "        latent = self.encoder(x)\n",
        "\n",
        "        reconstruction = self.decoder(latent) #+x\n",
        "\n",
        "        return reconstruction,latent"
      ],
      "id": "4742d1fc"
    },
    {
      "cell_type": "code",
      "execution_count": null,
      "metadata": {
        "id": "87ee07d4"
      },
      "outputs": [],
      "source": [
        "def recon_loss(recon_x,x):\n",
        "    mseloss = torch.nn.MSELoss()\n",
        "    mse = mseloss(recon_x,x)\n",
        "\n",
        "    return mse"
      ],
      "id": "87ee07d4"
    },
    {
      "cell_type": "code",
      "execution_count": null,
      "metadata": {
        "id": "ab82fe86"
      },
      "outputs": [],
      "source": [
        "def train(model,dataloader,criterion,device,epoch):\n",
        "    model.train()\n",
        "\n",
        "    for data in dataloader:\n",
        "        x,y=data\n",
        "\n",
        "        optimizer.zero_grad()\n",
        "\n",
        "        xhat,latent = model(x.float())\n",
        "\n",
        "        mseloss = recon_loss(xhat,x.float())\n",
        "\n",
        "        loss = mseloss\n",
        "\n",
        "        loss.backward()\n",
        "\n",
        "        optimizer.step()\n",
        "\n",
        "    return model\n",
        "def test(model,dataloader,criterion,device):\n",
        "    model.eval()\n",
        "    correct = 0\n",
        "    recon = 0\n",
        "\n",
        "    with torch.no_grad():\n",
        "        for data in dataloader:\n",
        "            x,y=data\n",
        "\n",
        "            xhat,latent = model(x.float())\n",
        "\n",
        "            mse = recon_loss(xhat.float(),x.float())\n",
        "\n",
        "            #correct = correct+loss\n",
        "            nn = len(dataloader.dataset)\n",
        "            recon = recon+mse\n",
        "\n",
        "        return recon/nn\n",
        "\n",
        "def inference(model,dataloader,device, n_latent=6):\n",
        "    model.eval()\n",
        "    dataset = dataloader.dataset\n",
        "    print(len(dataset))\n",
        "    bs = 500\n",
        "\n",
        "    realx = np.zeros((len(dataset),4,400))\n",
        "    predx = np.zeros((len(dataset),4,400))\n",
        "    realclasses = np.zeros((len(dataset)))\n",
        "    latentvars = np.zeros((len(dataset),n_latent))\n",
        "\n",
        "    jj = 0\n",
        "    i = 0\n",
        "\n",
        "    for data in dataloader:\n",
        "\n",
        "        x,y=data\n",
        "\n",
        "        xhat,latent = model(x.float())\n",
        "\n",
        "        bs = xhat.shape[0]\n",
        "        if xhat is not(None):\n",
        "            realx[jj:jj+bs,:]=x.cpu().detach().numpy().reshape(bs,4,400)\n",
        "            predx[jj:jj+bs,:]=xhat.cpu().detach().numpy().reshape(bs,4,400)\n",
        "            realclasses[jj:jj+bs]=y.cpu().detach().numpy().reshape(bs)\n",
        "            latentvars[jj:jj+bs,:]=latent.cpu().detach().numpy().reshape(bs,n_latent)\n",
        "\n",
        "            jj=jj+bs\n",
        "            i = i+1\n",
        "        else:\n",
        "            break\n",
        "\n",
        "    return realx,predx,realclasses,latentvars"
      ],
      "id": "ab82fe86"
    },
    {
      "cell_type": "code",
      "execution_count": null,
      "metadata": {
        "id": "ab32243b"
      },
      "outputs": [],
      "source": [
        "init_lr = 1e-3\n",
        "weight_decay = 1e-3\n",
        "total_epochs = 200\n",
        "\n",
        "# Learning rate strings so its in the correct format for the filenames\n",
        "lrval='{:3.0e}'.format(init_lr)[0]\n",
        "lrexp = '{:3.0e}'.format(init_lr)[4]\n",
        "\n",
        "model = SP2AutoEncoder(n_latent=6)\n",
        "\n",
        "# Check if there is a gpu\n",
        "device = torch.device(\"cuda:0\" if torch.cuda.is_available() else \"cpu\")\n",
        "# print(device)\n",
        "# print(model)\n",
        "model = model.to(device)\n",
        "\n",
        "optimizer = torch.optim.AdamW(model.parameters(), lr=init_lr, weight_decay=weight_decay)\n",
        "criterion = torch.nn.MSELoss()"
      ],
      "id": "ab32243b"
    },
    {
      "cell_type": "code",
      "execution_count": null,
      "metadata": {
        "id": "d86117a7"
      },
      "outputs": [],
      "source": [
        "val_accur = []\n",
        "train_accur = []\n",
        "\n",
        "train_mse_recs = []\n",
        "val_mse_recs = []"
      ],
      "id": "d86117a7"
    },
    {
      "cell_type": "code",
      "execution_count": null,
      "metadata": {
        "colab": {
          "background_save": true,
          "base_uri": "https://localhost:8080/"
        },
        "id": "b9a98cbc",
        "outputId": "15d75b74-ab71-4c2e-bb19-a79d59760c93"
      },
      "outputs": [
        {
          "name": "stderr",
          "output_type": "stream",
          "text": [
            "  2%|▏         | 1/60 [00:43<42:41, 43.42s/it]"
          ]
        },
        {
          "name": "stdout",
          "output_type": "stream",
          "text": [
            "Epoch: 000, Train MSE: 1.56351834e-05, Val. MSE: 1.58387265e-05\n"
          ]
        },
        {
          "name": "stderr",
          "output_type": "stream",
          "text": [
            " 18%|█▊        | 11/60 [07:50<34:43, 42.52s/it]"
          ]
        },
        {
          "name": "stdout",
          "output_type": "stream",
          "text": [
            "Epoch: 010, Train MSE: 3.09614711e-06, Val. MSE: 3.12512975e-06\n"
          ]
        },
        {
          "name": "stderr",
          "output_type": "stream",
          "text": [
            " 35%|███▌      | 21/60 [14:54<27:46, 42.74s/it]"
          ]
        },
        {
          "name": "stdout",
          "output_type": "stream",
          "text": [
            "Epoch: 020, Train MSE: 2.40303848e-06, Val. MSE: 2.44401872e-06\n"
          ]
        },
        {
          "name": "stderr",
          "output_type": "stream",
          "text": [
            " 52%|█████▏    | 31/60 [21:51<20:03, 41.50s/it]"
          ]
        },
        {
          "name": "stdout",
          "output_type": "stream",
          "text": [
            "Epoch: 030, Train MSE: 2.10480175e-06, Val. MSE: 2.14162765e-06\n"
          ]
        },
        {
          "name": "stderr",
          "output_type": "stream",
          "text": [
            " 68%|██████▊   | 41/60 [28:56<13:29, 42.60s/it]"
          ]
        },
        {
          "name": "stdout",
          "output_type": "stream",
          "text": [
            "Epoch: 040, Train MSE: 1.92579728e-06, Val. MSE: 1.96573342e-06\n"
          ]
        },
        {
          "name": "stderr",
          "output_type": "stream",
          "text": [
            " 85%|████████▌ | 51/60 [35:42<06:03, 40.39s/it]"
          ]
        },
        {
          "name": "stdout",
          "output_type": "stream",
          "text": [
            "Epoch: 050, Train MSE: 1.82887868e-06, Val. MSE: 1.88070544e-06\n"
          ]
        },
        {
          "name": "stderr",
          "output_type": "stream",
          "text": [
            "100%|██████████| 60/60 [41:47<00:00, 41.80s/it]\n"
          ]
        }
      ],
      "source": [
        "e0 = 0\n",
        "epochs = 60\n",
        "\n",
        "for epoch in tqdm(range(e0,epochs)):\n",
        "    mod = train(model,trainloader,criterion,device,epoch)\n",
        "    train_mse = test(model,trainloader,criterion,device)\n",
        "    val_mse = test(model,valloader,criterion,device)\n",
        "\n",
        "    train_mse_recs.append(train_mse)\n",
        "    val_mse_recs.append(val_mse)\n",
        "    if epoch%10==0:\n",
        "      print(f'Epoch: {epoch:03d}, Train MSE: {train_mse:.8e}, Val. MSE: {val_mse:.8e}')\n",
        "\n"
      ],
      "id": "b9a98cbc"
    },
    {
      "cell_type": "code",
      "execution_count": null,
      "metadata": {
        "colab": {
          "background_save": true
        },
        "id": "d4aed64d",
        "outputId": "fd8ebf0e-101f-4054-e350-4c161ff23389"
      },
      "outputs": [
        {
          "data": {
            "image/png": "[encoded data removed]",
            "text/plain": [
              "<Figure size 1000x600 with 1 Axes>"
            ]
          },
          "metadata": {},
          "output_type": "display_data"
        }
      ],
      "source": [
        "plt.figure(figsize=(10, 6))\n",
        "plt.plot(train_mse_recs, label='Train., MSE.',linestyle='dashed')\n",
        "plt.plot(val_mse_recs,label='Val., MSE.',linestyle='dashed')\n",
        "plt.yscale('log')\n",
        "plt.ylabel(\"Loss\", fontsize=20)\n",
        "plt.xlabel(\"Epochs\", fontsize=20)\n",
        "plt.legend()\n",
        "plt.show()"
      ],
      "id": "d4aed64d"
    },
    {
      "cell_type": "code",
      "execution_count": null,
      "metadata": {
        "id": "c0b02875"
      },
      "outputs": [],
      "source": [
        "trainrealx,trainpredx,trainrealy,trainlatent=inference(model,trainloader,device)\n",
        "valrealx,valpredx,valrealy,vallatent=inference(model,valloader,device)\n",
        "testrealx,testpredx,testrealy,testlatent=inference(model,testloader,device)"
      ],
      "id": "c0b02875"
    },
    {
      "cell_type": "code",
      "execution_count": null,
      "metadata": {
        "id": "8be10eeb"
      },
      "outputs": [],
      "source": [
        "target_names=[\"FS\",\"FSglyc\",\"CFA\",\"ATD\",\"VA\",\"Fe2O3\",\"Fe3O4\"]\n",
        "fig, axes = plt.subplots(nrows=1, ncols=3, figsize=(12,4))\n",
        "axes[0].scatter(trainlatent[:,0],trainlatent[:,1],c=trainrealy[:],cmap='rainbow',s=0.3)\n",
        "axes[1].scatter(vallatent[:,0],vallatent[:,1],c=valrealy[:],cmap='rainbow',s=0.3)\n",
        "ax2=axes[2].scatter(testlatent[:,0],testlatent[:,1],c=testrealy[:],cmap='rainbow',s=0.3)\n",
        "cbar = plt.colorbar(ax2)\n",
        "cbar.set_ticklabels=target_names"
      ],
      "id": "8be10eeb"
    },
    {
      "cell_type": "code",
      "execution_count": null,
      "metadata": {
        "id": "4782f854"
      },
      "outputs": [],
      "source": [
        "from sklearn.cluster import KMeans\n",
        "def kmeans(X_train, X_test, train_cluster_labels, num_clusters=7):\n",
        "\n",
        "  # Initialize the k-means clustering model\n",
        "  kmeans = KMeans(n_clusters=num_clusters, random_state=42)\n",
        "\n",
        "  kmeans.fit(X_train)\n",
        "\n",
        "  # Get the clustering labels to be used for the training data\n",
        "\n",
        "  # Perform clustering on the test data\n",
        "  test_cluster_labels = kmeans.predict(X_test)\n",
        "\n",
        "  # Visualize the training data\n",
        "  plt.scatter(X_train[:, 0], X_train[:, 1], c=train_cluster_labels, cmap='viridis')\n",
        "  plt.title('K-means Clustering - Training Data')\n",
        "  plt.xlabel('Feature 1')\n",
        "  plt.ylabel('Feature 2')\n",
        "  plt.colorbar()\n",
        "  plt.show()\n",
        "\n",
        "  # Visualize the test data\n",
        "  plt.scatter(X_test[:, 0], X_test[:, 1], c=test_cluster_labels, cmap='viridis')\n",
        "  plt.title('K-means Clustering - Test Data')\n",
        "  plt.xlabel('Feature 1')\n",
        "  plt.ylabel('Feature 2')\n",
        "  plt.colorbar()\n",
        "  plt.show()\n",
        "\n",
        "kmeans(trainlatent, testlatent, trainrealy, 7)"
      ],
      "id": "4782f854"
    },
    {
      "cell_type": "code",
      "execution_count": null,
      "metadata": {
        "id": "DG5hd4ioYkqA"
      },
      "outputs": [],
      "source": [],
      "id": "DG5hd4ioYkqA"
    }
  ],
  "metadata": {
    "colab": {
      "provenance": []
    },
    "kernelspec": {
      "display_name": "Python 3 (ipykernel)",
      "language": "python",
      "name": "python3"
    },
    "language_info": {
      "codemirror_mode": {
        "name": "ipython",
        "version": 3
      },
      "file_extension": ".py",
      "mimetype": "text/x-python",
      "name": "python",
      "nbconvert_exporter": "python",
      "pygments_lexer": "ipython3",
      "version": "3.9.15"
    }
  },
  "nbformat": 4,
  "nbformat_minor": 5
}