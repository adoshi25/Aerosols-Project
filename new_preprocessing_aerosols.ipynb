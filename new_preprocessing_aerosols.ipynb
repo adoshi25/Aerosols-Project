{
  "cells": [
    {
      "cell_type": "code",
      "execution_count": 25,
      "metadata": {
        "id": "a66b870a"
      },
      "outputs": [],
      "source": [
        "import os\n",
        "import math\n",
        "import numpy as np\n",
        "import seaborn as sns\n",
        "import pandas as pd\n",
        "import time\n",
        "\n",
        "import torch\n",
        "\n",
        "from torch.nn import Conv1d, ConvTranspose1d\n",
        "from torch.nn import Linear as Lin, ReLU, Sigmoid, ConstantPad1d\n",
        "from torch.utils.data import Dataset, DataLoader\n",
        "from sklearn.model_selection import StratifiedKFold\n",
        "\n",
        "from matplotlib import pyplot as plt\n",
        "from tqdm import tqdm"
      ],
      "id": "a66b870a"
    },
    {
      "cell_type": "code",
      "execution_count": 26,
      "metadata": {
        "id": "o6nZfdW4fUSq",
        "colab": {
          "base_uri": "https://localhost:8080/"
        },
        "outputId": "02d313ba-da7b-4477-f18e-1baf4b41d8d6"
      },
      "outputs": [
        {
          "output_type": "stream",
          "name": "stdout",
          "text": [
            "Drive already mounted at /content/drive; to attempt to forcibly remount, call drive.mount(\"/content/drive\", force_remount=True).\n"
          ]
        }
      ],
      "source": [
        "from google.colab import drive\n",
        "drive.mount('/content/drive')"
      ],
      "id": "o6nZfdW4fUSq"
    },
    {
      "cell_type": "code",
      "execution_count": 34,
      "metadata": {
        "id": "9ccdc51e"
      },
      "outputs": [],
      "source": [
        "X_train = np.load(\"/content/drive/MyDrive/Aerosols_Proj/Lab_X_train.npy\")\n",
        "Y_train = np.load(\"/content/drive/MyDrive/Aerosols_Proj/Lab_Y_train.npy\")\n",
        "\n",
        "X_val = np.load(\"/content/drive/MyDrive/Aerosols_Proj/Lab_X_val.npy\")\n",
        "Y_val = np.load(\"/content/drive/MyDrive/Aerosols_Proj/Lab_Y_val.npy\")\n",
        "\n",
        "X_test = np.load(\"/content/drive/MyDrive/Aerosols_Proj/Lab_X_test.npy\")\n",
        "Y_test = np.load(\"/content/drive/MyDrive/Aerosols_Proj/Lab_Y_test.npy\")"
      ],
      "id": "9ccdc51e"
    },
    {
      "cell_type": "code",
      "execution_count": 37,
      "metadata": {
        "colab": {
          "base_uri": "https://localhost:8080/"
        },
        "id": "452f00d8",
        "outputId": "6286cd72-b3fa-4048-98cd-947345d8d1f2"
      },
      "outputs": [
        {
          "output_type": "stream",
          "name": "stdout",
          "text": [
            "[[3.06728128 3.06728128 3.06728122 ... 3.06728133 3.06728154 3.06728143]\n",
            " [3.06728159 3.06728159 3.06728169 ... 3.06728149 3.06728138 3.06728133]\n",
            " [3.0672814  3.0672815  3.06728155 ... 3.06728145 3.06728155 3.06728161]\n",
            " ...\n",
            " [3.06728156 3.06728156 3.06728151 ... 3.06728135 3.0672813  3.06728135]\n",
            " [3.06728154 3.06728154 3.06728144 ... 3.06728108 3.06728108 3.06728113]\n",
            " [3.06728142 3.06728147 3.06728152 ... 3.06728147 3.06728137 3.06728132]] [[3.0672812  3.06728115 3.06728125 ... 3.06728115 3.06728115 3.06728105]\n",
            " [3.06728142 3.06728132 3.06728132 ... 3.06728153 3.06728158 3.06728158]\n",
            " [3.06728126 3.06728126 3.06728126 ... 3.06728116 3.06728126 3.06728126]\n",
            " ...\n",
            " [3.06728124 3.06728124 3.06728119 ... 3.0672814  3.06728145 3.0672815 ]\n",
            " [3.06728142 3.06728132 3.06728111 ... 3.06728142 3.06728137 3.06728126]\n",
            " [3.06728121 3.06728126 3.06728105 ... 3.06728137 3.06728131 3.06728137]] [[3.06270453 3.0627068  3.06270907 ... 3.06271134 3.06270907 3.06270567]\n",
            " [3.06270748 3.06270635 3.06270748 ... 3.06270635 3.06270975 3.06271088]\n",
            " [3.0627064  3.0627064  3.06270413 ... 3.06271094 3.06271094 3.06270981]\n",
            " ...\n",
            " [3.06270935 3.06271275 3.06271389 ... 3.06271389 3.06271275 3.06271049]\n",
            " [3.0627041  3.06270864 3.06270978 ... 3.06270751 3.06270524 3.06270751]\n",
            " [3.06271046 3.06270819 3.06270933 ... 3.06297556 3.06294611 3.06292144]]\n",
            "[[3.07076061 3.07075996 3.07075996 ... 3.07076061 3.07076061 3.07076061]\n",
            " [3.07076141 3.07076141 3.07076076 ... 3.07076076 3.07076076 3.07076076]\n",
            " [3.07076086 3.07076086 3.07076086 ... 3.07076151 3.07076151 3.07076151]\n",
            " ...\n",
            " [3.07076061 3.07076061 3.07076127 ... 3.07076127 3.07076061 3.07076127]\n",
            " [3.07076063 3.07076063 3.07076063 ... 3.07076063 3.07075998 3.07075998]\n",
            " [3.07076053 3.07076053 3.07076053 ... 3.07076118 3.07076053 3.07075988]] [[3.07084431 3.07084431 3.07084493 ... 3.07084555 3.07084555 3.07084493]\n",
            " [3.07084491 3.07084554 3.07084554 ... 3.07084554 3.07084554 3.07084491]\n",
            " [3.07084501 3.07084563 3.07084563 ... 3.07084563 3.07084501 3.07084501]\n",
            " ...\n",
            " [3.07084457 3.07084519 3.07084582 ... 3.07084519 3.07084519 3.07084519]\n",
            " [3.07084519 3.07084519 3.07084519 ... 3.07084457 3.07084519 3.07084457]\n",
            " [3.07084513 3.07084575 3.07084575 ... 3.07084513 3.07084575 3.07084575]] [[3.07127808 3.07127759 3.07127808 ... 3.07127808 3.07127808 3.07127808]\n",
            " [3.07127816 3.07127816 3.07127866 ... 3.07127866 3.07127866 3.07127866]\n",
            " [3.07127812 3.07127862 3.07127862 ... 3.07127862 3.07127911 3.07127812]\n",
            " ...\n",
            " [3.07127813 3.07127863 3.07127813 ... 3.07127863 3.07127863 3.07127813]\n",
            " [3.07127808 3.07127858 3.07127858 ... 3.07127858 3.07127808 3.07127808]\n",
            " [3.07127838 3.07127838 3.07127838 ... 3.07127789 3.07127739 3.07127739]]\n",
            "[[3.07127902 3.07127852 3.07127852 ... 3.07127902 3.07128001 3.07127951]\n",
            " [3.0712797  3.0712797  3.0712792  ... 3.0712792  3.07127871 3.07127871]\n",
            " [3.07127859 3.07127909 3.07127909 ... 3.07128008 3.07128008 3.07127959]\n",
            " ...\n",
            " [3.07127878 3.07127928 3.07127878 ... 3.07127928 3.07127928 3.07127878]\n",
            " [3.0712793  3.0712793  3.0712788  ... 3.0712793  3.0712788  3.07127831]\n",
            " [3.07127903 3.07127903 3.07127803 ... 3.07127952 3.07127952 3.07127952]] [[3.07118377 3.07118429 3.07118481 ... 3.07118377 3.07118481 3.07118429]\n",
            " [3.07118386 3.07118386 3.07118386 ... 3.07118542 3.0711849  3.07118438]\n",
            " [3.0711855  3.07118498 3.07118498 ... 3.07118498 3.07118394 3.07118394]\n",
            " ...\n",
            " [3.07118473 3.07118525 3.07118525 ... 3.07118421 3.07118421 3.07118473]\n",
            " [3.07118499 3.07118447 3.07118395 ... 3.07118395 3.07118447 3.07118447]\n",
            " [3.07118486 3.07118486 3.07118486 ... 3.07118434 3.07118538 3.07118538]] [[3.07127982 3.07128032 3.07128032 ... 3.07127933 3.07127933 3.07127933]\n",
            " [3.07127956 3.07127956 3.07127956 ... 3.07127857 3.07127857 3.07127857]\n",
            " [3.07127869 3.07127919 3.07127919 ... 3.07127969 3.07127919 3.07127869]\n",
            " ...\n",
            " [3.07127991 3.07128041 3.07128041 ... 3.07127941 3.07127991 3.07127991]\n",
            " [3.0712796  3.0712796  3.0712796  ... 3.0712796  3.0712791  3.0712791 ]\n",
            " [3.07127915 3.07127915 3.07127965 ... 3.07127816 3.07127766 3.07127766]]\n",
            "[[3.06426066 3.06426066 3.06426066 ... 3.06426066 3.06426066 3.06426066]\n",
            " [3.06426463 3.06426406 3.06426463 ... 3.06426122 3.06426008 3.06426008]\n",
            " [3.06426425 3.06426425 3.06426368 ... 3.06426027 3.06426083 3.06426027]\n",
            " ...\n",
            " [3.06426203 3.06426203 3.0642626  ... 3.06426032 3.06426032 3.06425975]\n",
            " [3.06426692 3.06426748 3.06426635 ... 3.06426408 3.06426351 3.06426351]\n",
            " [3.06426254 3.06426311 3.06426368 ... 3.06426425 3.06426368 3.06426368]] [[3.06426143 3.064262   3.064262   ... 3.06426371 3.06426371 3.06426314]\n",
            " [3.06426589 3.06426589 3.06426589 ... 3.06426192 3.06426248 3.06426248]\n",
            " [3.06426335 3.06426335 3.06426335 ... 3.06426108 3.06426108 3.06426051]\n",
            " ...\n",
            " [3.06426219 3.06426219 3.06426219 ... 3.0642582  3.06425877 3.06425877]\n",
            " [3.06426612 3.06426612 3.06426555 ... 3.0642593  3.0642593  3.0642593 ]\n",
            " [3.06426311 3.06426368 3.06426368 ... 3.06425856 3.06425856 3.06425913]] [[3.06426142 3.06426199 3.06426256 ... 3.06426028 3.06425971 3.06425914]\n",
            " [3.06426328 3.06426271 3.06426271 ... 3.06426328 3.06426271 3.06426271]\n",
            " [3.0642647  3.0642647  3.0642647  ... 3.06426754 3.06426697 3.06426641]\n",
            " ...\n",
            " [3.06426159 3.06426102 3.06426102 ... 3.06426216 3.06426159 3.06426159]\n",
            " [3.06426261 3.06426204 3.06426204 ... 3.06426147 3.06426204 3.06426261]\n",
            " [3.06426368 3.06426538 3.06426538 ... 3.06429192 3.06428799 3.06428574]]\n"
          ]
        }
      ],
      "source": [
        "# # Divide by the maximum of the training data set for that channel\n",
        "# for i in range(0,4):\n",
        "#     print(np.max(X_train[:,:,i]),np.max(X_val[:,:,i]),np.max(X_test[:,:,i]))\n",
        "#     s0 = np.max(X_train[:,:,i])\n",
        "\n",
        "#     X_train[:,:,i]=X_train[:,:,i]/s0\n",
        "#     X_val[:,:,i]=X_val[:,:,i]/s0\n",
        "#     X_test[:,:,i]=X_test[:,:,i]/s0\n",
        "#     print(np.max(X_train[:,:,i]),np.max(X_val[:,:,i]),np.max(X_test[:,:,i]))\n",
        "\n",
        "\n",
        "epsilon = 1e-8\n",
        "\n",
        "for i in range(0,4):\n",
        "    s0 = np.log(np.abs(np.min(X_train[:,:,i])) + epsilon +  X_train[:,:,i])\n",
        "    s1 = np.log(np.abs(np.min(X_val[:,:,i])) + epsilon + X_val[:,:,i])\n",
        "    s2 = np.log(np.abs(np.min(X_test[:,:,i])) + epsilon + X_test[:,:,i])\n",
        "\n",
        "    X_train[:,:,i] = s0\n",
        "    X_val[:,:,i] = s1\n",
        "    X_test[:,:,i] = s2\n",
        "\n",
        "    print(np.log(np.abs(np.min(X_train[:,:,i])) + epsilon +  X_train[:,:,i]),\n",
        "          np.log(np.abs(np.min(X_val[:,:,i])) + epsilon + X_val[:,:,i]),\n",
        "          np.log(np.abs(np.min(X_test[:,:,i])) + epsilon + X_test[:,:,i]))\n",
        ""
      ],
      "id": "452f00d8"
    },
    {
      "cell_type": "code",
      "execution_count": 38,
      "metadata": {
        "id": "ea1c768e"
      },
      "outputs": [],
      "source": [
        "# Switch the location of the time axis and channel axis because CNN layers in pytorch expect channels first\n",
        "tX_train = np.moveaxis(X_train,2,1)\n",
        "tY_train = Y_train\n",
        "\n",
        "tX_val = np.moveaxis(X_val,2,1)\n",
        "tY_val = Y_val\n",
        "\n",
        "tX_test = np.moveaxis(X_test,2,1)\n",
        "tY_test = Y_test"
      ],
      "id": "ea1c768e"
    },
    {
      "cell_type": "code",
      "execution_count": 39,
      "metadata": {
        "colab": {
          "base_uri": "https://localhost:8080/"
        },
        "id": "ec8d2dc4",
        "outputId": "5a5aabc3-1529-4ef5-cb7a-a53a43df7a4a"
      },
      "outputs": [
        {
          "output_type": "execute_result",
          "data": {
            "text/plain": [
              "(140082, 400, 4)"
            ]
          },
          "metadata": {},
          "execution_count": 39
        }
      ],
      "source": [
        "X_train.shape"
      ],
      "id": "ec8d2dc4"
    },
    {
      "cell_type": "code",
      "execution_count": 40,
      "metadata": {
        "id": "779426d4"
      },
      "outputs": [],
      "source": [
        "dat = X_val\n",
        "ys = tY_val\n",
        "i0 = np.min(dat[:,:,0],axis=1)\n",
        "i1 = np.min(dat[:,:,1],axis=1)\n",
        "i2 = np.min(dat[:,:,2],axis=1)\n",
        "i3 = np.min(dat[:,:,3],axis=1)\n",
        "\n",
        "s0 = np.max(dat[:,:,0],axis=1)\n",
        "s1 = np.max(dat[:,:,1],axis=1)\n",
        "s2 = np.max(dat[:,:,2],axis=1)\n",
        "s3 = np.max(dat[:,:,3],axis=1)"
      ],
      "id": "779426d4"
    },
    {
      "cell_type": "code",
      "execution_count": 41,
      "metadata": {
        "colab": {
          "base_uri": "https://localhost:8080/",
          "height": 311
        },
        "id": "ee15543c",
        "outputId": "227ff4fe-47f7-4a97-bb50-2c5a024e317f"
      },
      "outputs": [
        {
          "output_type": "execute_result",
          "data": {
            "text/plain": [
              "<matplotlib.collections.PathCollection at 0x7b5c02ed4b80>"
            ]
          },
          "metadata": {},
          "execution_count": 41
        },
        {
          "output_type": "display_data",
          "data": {
            "text/plain": [
              "<Figure size 1200x300 with 4 Axes>"
            ],
            "image/png": "[encoded data removed]"
          },
          "metadata": {}
        }
      ],
      "source": [
        "fig, axes = plt.subplots(nrows=1, ncols=4, figsize=(12,3))\n",
        "axes[0].scatter(i0,s0,c=ys,cmap='rainbow',s=0.3)\n",
        "axes[1].scatter(i1,s1,c=ys,cmap='rainbow',s=0.3)\n",
        "axes[2].scatter(i2,s2,c=ys,cmap='rainbow',s=0.3)\n",
        "axes[3].scatter(i3,s3,c=ys,cmap='rainbow',s=0.3)"
      ],
      "id": "ee15543c"
    },
    {
      "cell_type": "markdown",
      "metadata": {
        "id": "7dd80b23"
      },
      "source": [
        "## Set up the pytorch data loaders"
      ],
      "id": "7dd80b23"
    },
    {
      "cell_type": "code",
      "execution_count": 42,
      "metadata": {
        "id": "9b857c87"
      },
      "outputs": [],
      "source": [
        "class SP2Datasets(Dataset):\n",
        "    def __init__(self,purpose,latent=False):\n",
        "\n",
        "        if purpose == \"train\":\n",
        "            self.X = tX_train\n",
        "            self.Y = tY_train\n",
        "        elif purpose == \"val\":\n",
        "            self.X = tX_val\n",
        "            self.Y = tY_val\n",
        "        else:\n",
        "            self.X = tX_test\n",
        "            self.Y = tY_test\n",
        "    def __len__(self):\n",
        "        return int(self.X.shape[0])\n",
        "    def __getitem__(self,idx):\n",
        "\n",
        "        X = self.X[idx,:,:]\n",
        "        Y = self.Y[idx]\n",
        "\n",
        "        return X,Y"
      ],
      "id": "9b857c87"
    },
    {
      "cell_type": "code",
      "execution_count": 43,
      "metadata": {
        "id": "503aac16"
      },
      "outputs": [],
      "source": [
        "bs = 500\n",
        "traindataset = SP2Datasets(\"train\",bs)\n",
        "valdataset = SP2Datasets(\"val\",bs)\n",
        "testdataset = SP2Datasets(\"test\",bs)"
      ],
      "id": "503aac16"
    },
    {
      "cell_type": "code",
      "execution_count": 44,
      "metadata": {
        "id": "e511bb50"
      },
      "outputs": [],
      "source": [
        "# disable auto load the data in chunks from memory\n",
        "\n",
        "def seed_worker(worker_id):\n",
        "    worker_seed = torch.initial_seed() % 2**32\n",
        "    numpy.random.seed(worker_seed)\n",
        "    random.seed(worker_seed)\n",
        "\n",
        "g = torch.Generator()\n",
        "g.manual_seed(0)\n",
        "\n",
        "trainloader = DataLoader(\n",
        "    traindataset,\n",
        "    batch_size=bs,\n",
        "    shuffle = True,\n",
        "    #num_workers=num_workers,\n",
        "    worker_init_fn=seed_worker,\n",
        "    generator=g,\n",
        ")\n",
        "\n",
        "valloader = DataLoader(\n",
        "    valdataset,\n",
        "    batch_size=bs,\n",
        "    shuffle = True,\n",
        "    #num_workers=num_workers,\n",
        "    worker_init_fn=seed_worker,\n",
        "    generator=g,\n",
        ")\n",
        "\n",
        "testloader = DataLoader(\n",
        "    testdataset,\n",
        "    batch_size=bs,\n",
        "    shuffle = True,\n",
        "    #num_workers=num_workers,\n",
        "    worker_init_fn=seed_worker,\n",
        "    generator=g,\n",
        ")\n",
        "\n",
        "\n",
        "#trainloader = DataLoader(traindataset, batch_size=bs, shuffle= True )\n",
        "#valloader = DataLoader(valdataset, batch_size=bs, shuffle=True)\n",
        "#testloader = DataLoader(testdataset, batch_size=bs, shuffle=True)\n"
      ],
      "id": "e511bb50"
    },
    {
      "cell_type": "code",
      "execution_count": 45,
      "metadata": {
        "colab": {
          "base_uri": "https://localhost:8080/"
        },
        "id": "7825fcf1",
        "outputId": "e5a65e00-9ee5-4585-dd72-aa8e0e49ce3f"
      },
      "outputs": [
        {
          "output_type": "stream",
          "name": "stdout",
          "text": [
            "281 140082\n"
          ]
        }
      ],
      "source": [
        "i = 0\n",
        "j = 0\n",
        "for data in trainloader:\n",
        "    x,y=data\n",
        "\n",
        "    #print(x.shape,y.shape)\n",
        "    i = i+1\n",
        "    j = j+x.shape[0]\n",
        "print(i,j)"
      ],
      "id": "7825fcf1"
    },
    {
      "cell_type": "code",
      "execution_count": 46,
      "metadata": {
        "id": "68f1a1bf"
      },
      "outputs": [],
      "source": [
        "st = 2\n",
        "c1 = Conv1d(in_channels=4,out_channels=4,kernel_size=4,stride=st,padding=1)\n",
        "c2 = Conv1d(in_channels=4,out_channels=4,kernel_size=4,stride=st,padding=1)\n",
        "c3 = Conv1d(in_channels=4,out_channels=4,kernel_size=4,stride=st,padding=1)\n",
        "c4 = Conv1d(in_channels=4,out_channels=4,kernel_size=4,stride=st,padding=1)\n",
        "n_latent = 3\n",
        "lin = Lin(100,n_latent)"
      ],
      "id": "68f1a1bf"
    },
    {
      "cell_type": "code",
      "execution_count": 47,
      "metadata": {
        "colab": {
          "base_uri": "https://localhost:8080/"
        },
        "id": "109ecce8",
        "outputId": "70815f5c-fb8d-4617-8e98-83236763e3e1"
      },
      "outputs": [
        {
          "output_type": "stream",
          "name": "stdout",
          "text": [
            "torch.Size([82, 4, 400]) torch.Size([82, 4, 200]) torch.Size([82, 4, 100]) torch.Size([82, 4, 50]) torch.Size([82, 4, 25]) torch.Size([82, 100])\n"
          ]
        }
      ],
      "source": [
        "x2 = c1(x.float())\n",
        "x3 = c2(x2)\n",
        "x4 = c3(x3)\n",
        "x5 = c4(x4)\n",
        "x6 = x5.view(-1,100)\n",
        "print(x.shape,x2.shape,x3.shape,x4.shape,x5.shape,x6.shape)"
      ],
      "id": "109ecce8"
    },
    {
      "cell_type": "code",
      "execution_count": 47,
      "metadata": {
        "id": "166f8c72"
      },
      "outputs": [],
      "source": [],
      "id": "166f8c72"
    },
    {
      "cell_type": "code",
      "execution_count": 47,
      "metadata": {
        "id": "02b48189"
      },
      "outputs": [],
      "source": [],
      "id": "02b48189"
    },
    {
      "cell_type": "code",
      "execution_count": 47,
      "metadata": {
        "id": "00b7cf5d"
      },
      "outputs": [],
      "source": [],
      "id": "00b7cf5d"
    },
    {
      "cell_type": "markdown",
      "metadata": {
        "id": "b0bc72c4"
      },
      "source": [
        "## Set up the model"
      ],
      "id": "b0bc72c4"
    },
    {
      "cell_type": "code",
      "execution_count": 48,
      "metadata": {
        "id": "4742d1fc"
      },
      "outputs": [],
      "source": [
        "class Encoder(torch.nn.Module):\n",
        "    def __init__(self,n_channels=4,n_steps=400,n_latent=10):\n",
        "        super(Encoder, self).__init__()\n",
        "        self.n_layers = 4\n",
        "        self.n_steps = n_steps\n",
        "        self.c1 = Conv1d(in_channels=n_channels,out_channels=n_channels,kernel_size=4,stride=2,padding=1)\n",
        "        self.activation1 = ReLU()\n",
        "        self.c2 = Conv1d(in_channels=n_channels,out_channels=n_channels,kernel_size=4,stride=2,padding=1)\n",
        "        self.activation2 = ReLU()\n",
        "        self.c3 = Conv1d(in_channels=n_channels,out_channels=n_channels,kernel_size=4,stride=2,padding=1)\n",
        "        self.activation3 = ReLU()\n",
        "        self.c4 = Conv1d(in_channels=n_channels,out_channels=n_channels,kernel_size=4,stride=2,padding=1)\n",
        "        self.activation4 = ReLU()\n",
        "        self.lin = Lin(int(self.n_steps/self.n_layers),n_latent)\n",
        "\n",
        "    def forward(self,x):\n",
        "\n",
        "        x = self.c1(x)\n",
        "        x = self.activation1(x)\n",
        "        x = self.c2(x)\n",
        "        x = self.activation2(x)\n",
        "        x = self.c3(x)\n",
        "        x = self.activation3(x)\n",
        "        x = self.c4(x)\n",
        "        x = self.activation4(x)\n",
        "        x = x.view(-1,int(self.n_steps/self.n_layers))\n",
        "        return self.lin(x)\n",
        "\n",
        "class Decoder(torch.nn.Module):\n",
        "    def __init__(self,n_channels=4,n_steps=400,n_latent=10):\n",
        "        super(Decoder, self).__init__()\n",
        "\n",
        "        self.n_layers = 4\n",
        "        self.n_steps = n_steps\n",
        "        self.n_latent = n_latent\n",
        "        self.n_channels = n_channels\n",
        "\n",
        "        self.lin = Lin(n_latent,int(self.n_steps/self.n_layers))\n",
        "        self.conv1 = ConvTranspose1d(in_channels=n_channels,out_channels=n_channels,kernel_size=4,stride=2,padding=1)\n",
        "        self.activation1 = ReLU()\n",
        "        self.conv2 = ConvTranspose1d(in_channels=n_channels,out_channels=n_channels,kernel_size=4,stride=2,padding=1)\n",
        "        self.activation2 = ReLU()\n",
        "        self.conv3 = ConvTranspose1d(in_channels=n_channels,out_channels=n_channels,kernel_size=4,stride=2,padding=1)\n",
        "        self.activation3 = ReLU()\n",
        "        self.conv4 = ConvTranspose1d(in_channels=n_channels,out_channels=n_channels,kernel_size=4,stride=2,padding=1)\n",
        "        self.activation4 = ReLU()\n",
        "        self.lin2 = Lin(n_steps,n_steps)\n",
        "        self.activation5 = ReLU()\n",
        "\n",
        "    def forward(self,x):\n",
        "\n",
        "        inp = x\n",
        "\n",
        "        x = self.lin(inp)\n",
        "        x = x.reshape(-1,self.n_channels,int(self.n_steps/self.n_layers/self.n_channels))\n",
        "        x = self.conv1(x)\n",
        "        x = self.activation1(x)\n",
        "        x = self.conv2(x)\n",
        "        x = self.activation2(x)\n",
        "        x = self.conv3(x)\n",
        "        x = self.activation3(x)\n",
        "        x = self.conv4(x)\n",
        "        x = self.activation4(x)\n",
        "\n",
        "        x = self.lin2(x)\n",
        "\n",
        "        return x #self.activation5(x)\n",
        "\n",
        "class SP2AutoEncoder(torch.nn.Module):\n",
        "    def __init__(self,n_channels=4,n_steps=400,n_latent=10):\n",
        "        super(SP2AutoEncoder, self).__init__()\n",
        "\n",
        "        self.encoder = Encoder(n_channels=n_channels,n_steps=n_steps,n_latent=n_latent)\n",
        "        self.decoder = Decoder(n_channels=n_channels,n_steps=n_steps,n_latent=n_latent)\n",
        "\n",
        "    def forward(self,x):\n",
        "\n",
        "        bs = x.shape[0]\n",
        "\n",
        "        latent = self.encoder(x)\n",
        "\n",
        "        reconstruction = self.decoder(latent) #+x\n",
        "\n",
        "        return reconstruction,latent"
      ],
      "id": "4742d1fc"
    },
    {
      "cell_type": "code",
      "execution_count": 49,
      "metadata": {
        "id": "87ee07d4"
      },
      "outputs": [],
      "source": [
        "def recon_loss(recon_x,x):\n",
        "    mseloss = torch.nn.MSELoss()\n",
        "    mse = mseloss(recon_x,x)\n",
        "\n",
        "    return mse"
      ],
      "id": "87ee07d4"
    },
    {
      "cell_type": "code",
      "execution_count": 50,
      "metadata": {
        "id": "ab82fe86"
      },
      "outputs": [],
      "source": [
        "def train(model,dataloader,criterion,device,epoch):\n",
        "    model.train()\n",
        "\n",
        "    for data in dataloader:\n",
        "        x,y=data\n",
        "\n",
        "        optimizer.zero_grad()\n",
        "\n",
        "        xhat,latent = model(x.float())\n",
        "\n",
        "        mseloss = recon_loss(xhat,x.float())\n",
        "\n",
        "        loss = mseloss\n",
        "\n",
        "        loss.backward()\n",
        "\n",
        "        optimizer.step()\n",
        "\n",
        "    return model\n",
        "def test(model,dataloader,criterion,device):\n",
        "    model.eval()\n",
        "    correct = 0\n",
        "    recon = 0\n",
        "\n",
        "    with torch.no_grad():\n",
        "        for data in dataloader:\n",
        "            x,y=data\n",
        "\n",
        "            xhat,latent = model(x.float())\n",
        "\n",
        "            mse = recon_loss(xhat.float(),x.float())\n",
        "\n",
        "            #correct = correct+loss\n",
        "            nn = len(dataloader.dataset)\n",
        "            recon = recon+mse\n",
        "\n",
        "        return recon/nn\n",
        "\n",
        "def inference(model,dataloader,device,n_latent=2):\n",
        "    model.eval()\n",
        "    dataset = dataloader.dataset\n",
        "    print(len(dataset))\n",
        "    bs = 500\n",
        "\n",
        "    realx = np.zeros((len(dataset),4,400))\n",
        "    predx = np.zeros((len(dataset),4,400))\n",
        "    realclasses = np.zeros((len(dataset)))\n",
        "    latentvars = np.zeros((len(dataset),n_latent))\n",
        "\n",
        "    jj = 0\n",
        "    i = 0\n",
        "\n",
        "    for data in dataloader:\n",
        "\n",
        "        x,y=data\n",
        "\n",
        "        xhat,latent = model(x.float())\n",
        "\n",
        "        bs = xhat.shape[0]\n",
        "        if xhat is not(None):\n",
        "            realx[jj:jj+bs,:]=x.cpu().detach().numpy().reshape(bs,4,400)\n",
        "            predx[jj:jj+bs,:]=xhat.cpu().detach().numpy().reshape(bs,4,400)\n",
        "            realclasses[jj:jj+bs]=y.cpu().detach().numpy().reshape(bs)\n",
        "            latentvars[jj:jj+bs,:]=latent.cpu().detach().numpy().reshape(bs,n_latent)\n",
        "\n",
        "            jj=jj+bs\n",
        "            i = i+1\n",
        "        else:\n",
        "            break\n",
        "\n",
        "    return realx,predx,realclasses,latentvars"
      ],
      "id": "ab82fe86"
    },
    {
      "cell_type": "code",
      "execution_count": 51,
      "metadata": {
        "id": "ab32243b"
      },
      "outputs": [],
      "source": [
        "init_lr = 1e-3\n",
        "weight_decay = 1e-3\n",
        "total_epochs = 200\n",
        "\n",
        "# Learning rate strings so its in the correct format for the filenames\n",
        "lrval='{:3.0e}'.format(init_lr)[0]\n",
        "lrexp = '{:3.0e}'.format(init_lr)[4]\n",
        "\n",
        "model = SP2AutoEncoder(n_latent=2)\n",
        "\n",
        "# Check if there is a gpu\n",
        "device = torch.device(\"cuda:0\" if torch.cuda.is_available() else \"cpu\")\n",
        "# print(device)\n",
        "# print(model)\n",
        "model = model.to(device)\n",
        "\n",
        "optimizer = torch.optim.AdamW(model.parameters(), lr=init_lr, weight_decay=weight_decay)\n",
        "criterion = torch.nn.MSELoss()"
      ],
      "id": "ab32243b"
    },
    {
      "cell_type": "code",
      "execution_count": 52,
      "metadata": {
        "id": "d86117a7"
      },
      "outputs": [],
      "source": [
        "val_accur = []\n",
        "train_accur = []\n",
        "\n",
        "train_mse_recs = []\n",
        "val_mse_recs = []"
      ],
      "id": "d86117a7"
    },
    {
      "cell_type": "code",
      "execution_count": 53,
      "metadata": {
        "colab": {
          "base_uri": "https://localhost:8080/"
        },
        "id": "jeNsqk6LudSN",
        "outputId": "1cdd4016-45e3-4eb3-a250-8f821528f9b7"
      },
      "outputs": [
        {
          "output_type": "execute_result",
          "data": {
            "text/plain": [
              "device(type='cpu')"
            ]
          },
          "metadata": {},
          "execution_count": 53
        }
      ],
      "source": [
        "device"
      ],
      "id": "jeNsqk6LudSN"
    },
    {
      "cell_type": "code",
      "execution_count": 54,
      "metadata": {
        "colab": {
          "base_uri": "https://localhost:8080/"
        },
        "id": "b9a98cbc",
        "outputId": "1d6d8afd-d592-4a09-d849-29065691a2dd"
      },
      "outputs": [
        {
          "output_type": "stream",
          "name": "stderr",
          "text": [
            "  2%|▏         | 1/60 [00:40<39:25, 40.09s/it]"
          ]
        },
        {
          "output_type": "stream",
          "name": "stdout",
          "text": [
            "Epoch: 000, Train MSE: 4.02568607e-03, Val. MSE: 4.03969688e-03\n"
          ]
        },
        {
          "output_type": "stream",
          "name": "stderr",
          "text": [
            " 18%|█▊        | 11/60 [05:49<25:22, 31.08s/it]"
          ]
        },
        {
          "output_type": "stream",
          "name": "stdout",
          "text": [
            "Epoch: 010, Train MSE: 4.21075907e-04, Val. MSE: 4.22266428e-04\n"
          ]
        },
        {
          "output_type": "stream",
          "name": "stderr",
          "text": [
            " 35%|███▌      | 21/60 [10:56<19:49, 30.51s/it]"
          ]
        },
        {
          "output_type": "stream",
          "name": "stdout",
          "text": [
            "Epoch: 020, Train MSE: 1.50786934e-06, Val. MSE: 1.20369066e-06\n"
          ]
        },
        {
          "output_type": "stream",
          "name": "stderr",
          "text": [
            " 52%|█████▏    | 31/60 [16:03<14:46, 30.58s/it]"
          ]
        },
        {
          "output_type": "stream",
          "name": "stdout",
          "text": [
            "Epoch: 030, Train MSE: 1.50706842e-06, Val. MSE: 1.21394271e-06\n"
          ]
        },
        {
          "output_type": "stream",
          "name": "stderr",
          "text": [
            " 68%|██████▊   | 41/60 [21:12<09:48, 30.96s/it]"
          ]
        },
        {
          "output_type": "stream",
          "name": "stdout",
          "text": [
            "Epoch: 040, Train MSE: 1.47660512e-06, Val. MSE: 1.18298010e-06\n"
          ]
        },
        {
          "output_type": "stream",
          "name": "stderr",
          "text": [
            " 85%|████████▌ | 51/60 [26:21<04:36, 30.74s/it]"
          ]
        },
        {
          "output_type": "stream",
          "name": "stdout",
          "text": [
            "Epoch: 050, Train MSE: 1.23169843e-06, Val. MSE: 1.01365083e-06\n"
          ]
        },
        {
          "output_type": "stream",
          "name": "stderr",
          "text": [
            "100%|██████████| 60/60 [31:05<00:00, 31.10s/it]\n"
          ]
        }
      ],
      "source": [
        "e0 = 0\n",
        "epochs = 60\n",
        "\n",
        "\n",
        "for epoch in tqdm(range(e0,epochs)):\n",
        "    mod = train(model,trainloader,criterion,device,epoch)\n",
        "    train_mse = test(model,trainloader,criterion,device)\n",
        "    val_mse = test(model,valloader,criterion,device)\n",
        "\n",
        "    train_mse_recs.append(train_mse)\n",
        "    val_mse_recs.append(val_mse)\n",
        "    if epoch%10==0:\n",
        "      print(f'Epoch: {epoch:03d}, Train MSE: {train_mse:.8e}, Val. MSE: {val_mse:.8e}')"
      ],
      "id": "b9a98cbc"
    },
    {
      "cell_type": "code",
      "execution_count": 55,
      "metadata": {
        "colab": {
          "base_uri": "https://localhost:8080/",
          "height": 556
        },
        "id": "d4aed64d",
        "outputId": "51294762-2e33-4609-aeb2-37f470fc8c8e"
      },
      "outputs": [
        {
          "output_type": "display_data",
          "data": {
            "text/plain": [
              "<Figure size 1000x600 with 1 Axes>"
            ],
            "image/png": "[encoded data removed]"
          },
          "metadata": {}
        }
      ],
      "source": [
        "plt.figure(figsize=(10, 6))\n",
        "plt.plot(train_mse_recs, label='Train., MSE.',linestyle='dashed')\n",
        "plt.plot(val_mse_recs,label='Val., MSE.',linestyle='dashed')\n",
        "plt.yscale('log')\n",
        "plt.ylabel(\"Loss\", fontsize=20)\n",
        "plt.xlabel(\"Epochs\", fontsize=20)\n",
        "plt.legend()\n",
        "plt.show()"
      ],
      "id": "d4aed64d"
    },
    {
      "cell_type": "code",
      "execution_count": 56,
      "metadata": {
        "colab": {
          "base_uri": "https://localhost:8080/"
        },
        "id": "c0b02875",
        "outputId": "70942d07-b684-4bda-d82e-3330542849a9"
      },
      "outputs": [
        {
          "output_type": "stream",
          "name": "stdout",
          "text": [
            "140082\n",
            "70041\n",
            "70042\n"
          ]
        }
      ],
      "source": [
        "trainrealx,trainpredx,trainrealy,trainlatent=inference(model,trainloader,device)\n",
        "valrealx,valpredx,valrealy,vallatent=inference(model,valloader,device)\n",
        "testrealx,testpredx,testrealy,testlatent=inference(model,testloader,device)\n",
        "\n",
        "#trainrealx --> what was being inputted to the vae\n",
        "#testpredictedx --> 4 channels afte reconstructed from latent variables\n",
        "#realy --> reall labels of the different aerosols (as a number from 0-7)\n",
        "#testlatent --> the n_latent we set (2 in this case)\n",
        "#for the 140,000 signals you ahve two points --> one for latent 1 and latent 2"
      ],
      "id": "c0b02875"
    },
    {
      "cell_type": "code",
      "execution_count": 57,
      "metadata": {
        "colab": {
          "base_uri": "https://localhost:8080/",
          "height": 374
        },
        "id": "8be10eeb",
        "outputId": "54367cca-a619-4020-b1b9-3ed4b1e22a4d"
      },
      "outputs": [
        {
          "output_type": "display_data",
          "data": {
            "text/plain": [
              "<Figure size 1200x400 with 4 Axes>"
            ],
            "image/png": "[encoded data removed]"
          },
          "metadata": {}
        }
      ],
      "source": [
        "target_names=[\"FS\",\"FSglyc\",\"CFA\",\"ATD\",\"VA\",\"Fe2O3\",\"Fe3O4\"]\n",
        "fig, axes = plt.subplots(nrows=1, ncols=3, figsize=(12,4))\n",
        "axes[0].scatter(trainlatent[:,0],trainlatent[:,1],c=trainrealy[:],cmap='rainbow',s=0.3)\n",
        "axes[1].scatter(vallatent[:,0],vallatent[:,1],c=valrealy[:],cmap='rainbow',s=0.3)\n",
        "ax2=axes[2].scatter(testlatent[:,0],testlatent[:,1],c=testrealy[:],cmap='rainbow',s=0.3)\n",
        "cbar = plt.colorbar(ax2)\n",
        "cbar.set_ticklabels=target_names"
      ],
      "id": "8be10eeb"
    },
    {
      "cell_type": "code",
      "source": [
        "testrealy.shape"
      ],
      "metadata": {
        "colab": {
          "base_uri": "https://localhost:8080/"
        },
        "id": "gsMMQWKxNJuX",
        "outputId": "4a84e044-115a-4c15-f18c-30be25b4c658"
      },
      "id": "gsMMQWKxNJuX",
      "execution_count": 58,
      "outputs": [
        {
          "output_type": "execute_result",
          "data": {
            "text/plain": [
              "(70042,)"
            ]
          },
          "metadata": {},
          "execution_count": 58
        }
      ]
    },
    {
      "cell_type": "code",
      "source": [
        "trainrealy.shape"
      ],
      "metadata": {
        "colab": {
          "base_uri": "https://localhost:8080/"
        },
        "id": "qzBS4qlyOb9_",
        "outputId": "e8f37957-984b-4aa1-e805-456492dc2fb0"
      },
      "id": "qzBS4qlyOb9_",
      "execution_count": 59,
      "outputs": [
        {
          "output_type": "execute_result",
          "data": {
            "text/plain": [
              "(140082,)"
            ]
          },
          "metadata": {},
          "execution_count": 59
        }
      ]
    },
    {
      "cell_type": "code",
      "source": [
        "X_test.shape"
      ],
      "metadata": {
        "colab": {
          "base_uri": "https://localhost:8080/"
        },
        "id": "RyUUbE3qOj-J",
        "outputId": "fb46d840-413b-4d0b-a256-24f596c4341d"
      },
      "id": "RyUUbE3qOj-J",
      "execution_count": 60,
      "outputs": [
        {
          "output_type": "execute_result",
          "data": {
            "text/plain": [
              "(70042, 400, 4)"
            ]
          },
          "metadata": {},
          "execution_count": 60
        }
      ]
    },
    {
      "cell_type": "code",
      "source": [
        "Y_train.shape"
      ],
      "metadata": {
        "colab": {
          "base_uri": "https://localhost:8080/"
        },
        "id": "_qH5qjeSPFDK",
        "outputId": "21807708-58f6-42f5-d523-2932e0683524"
      },
      "id": "_qH5qjeSPFDK",
      "execution_count": 61,
      "outputs": [
        {
          "output_type": "execute_result",
          "data": {
            "text/plain": [
              "(140082,)"
            ]
          },
          "metadata": {},
          "execution_count": 61
        }
      ]
    },
    {
      "cell_type": "code",
      "source": [
        "Y_test.shape"
      ],
      "metadata": {
        "colab": {
          "base_uri": "https://localhost:8080/"
        },
        "id": "9gKr_RosPIeZ",
        "outputId": "565722ff-c99a-43cf-9dfa-5dff83634d5d"
      },
      "id": "9gKr_RosPIeZ",
      "execution_count": 62,
      "outputs": [
        {
          "output_type": "execute_result",
          "data": {
            "text/plain": [
              "(70042,)"
            ]
          },
          "metadata": {},
          "execution_count": 62
        }
      ]
    },
    {
      "cell_type": "code",
      "source": [
        "trainrealy"
      ],
      "metadata": {
        "colab": {
          "base_uri": "https://localhost:8080/"
        },
        "id": "JgPhD473d5fG",
        "outputId": "40262ac3-6da2-494e-96cb-32f4edd0598e"
      },
      "id": "JgPhD473d5fG",
      "execution_count": 63,
      "outputs": [
        {
          "output_type": "execute_result",
          "data": {
            "text/plain": [
              "array([3., 1., 3., ..., 6., 0., 2.])"
            ]
          },
          "metadata": {},
          "execution_count": 63
        }
      ]
    },
    {
      "cell_type": "code",
      "execution_count": 64,
      "metadata": {
        "id": "4782f854",
        "colab": {
          "base_uri": "https://localhost:8080/",
          "height": 1000
        },
        "outputId": "ac3c6e03-c886-4754-a186-9203bdcd1235"
      },
      "outputs": [
        {
          "output_type": "stream",
          "name": "stderr",
          "text": [
            "/usr/local/lib/python3.10/dist-packages/sklearn/cluster/_kmeans.py:870: FutureWarning: The default value of `n_init` will change from 10 to 'auto' in 1.4. Set the value of `n_init` explicitly to suppress the warning\n",
            "  warnings.warn(\n"
          ]
        },
        {
          "output_type": "display_data",
          "data": {
            "text/plain": [
              "<Figure size 640x480 with 2 Axes>"
            ],
            "image/png": "[encoded data removed]"
          },
          "metadata": {}
        },
        {
          "output_type": "display_data",
          "data": {
            "text/plain": [
              "<Figure size 640x480 with 2 Axes>"
            ],
            "image/png": "[encoded data removed]"
          },
          "metadata": {}
        },
        {
          "output_type": "display_data",
          "data": {
            "text/plain": [
              "<Figure size 640x480 with 2 Axes>"
            ],
            "image/png": "[encoded data removed]"
          },
          "metadata": {}
        },
        {
          "output_type": "display_data",
          "data": {
            "text/plain": [
              "<Figure size 640x480 with 2 Axes>"
            ],
            "image/png": "[encoded data removed]"
          },
          "metadata": {}
        }
      ],
      "source": [
        "from sklearn.cluster import KMeans\n",
        "def kmeans(X_train, X_test, train_cluster_labels, test_labels, num_clusters=7):\n",
        "\n",
        "  # Initialize the k-means clustering model\n",
        "  kmeans = KMeans(n_clusters=num_clusters, random_state=42)\n",
        "\n",
        "  kmeans.fit_transform(X_train)\n",
        "\n",
        "  # Get the clustering labels to be used for the training data\n",
        "\n",
        "  # Perform clustering on the test data\n",
        "  test_cluster_labels = kmeans.predict(X_test)\n",
        "\n",
        "  # Visualize the training data\n",
        "  plt.scatter(X_train[:, 0], X_train[:, 1], c=train_cluster_labels, cmap='viridis')\n",
        "  plt.title('K-means Clustering - Training Data')\n",
        "  plt.xlabel('Feature 1')\n",
        "  plt.ylabel('Feature 2')\n",
        "  plt.colorbar()\n",
        "  plt.show()\n",
        "\n",
        "  # Visualize the training data\n",
        "  plt.scatter(X_test[:, 0], X_test[:, 1], c=test_labels, cmap='viridis')\n",
        "  plt.title('K-means Clustering - Test Data Ground Truth')\n",
        "  plt.xlabel('Feature 1')\n",
        "  plt.ylabel('Feature 2')\n",
        "  plt.colorbar()\n",
        "  plt.show()\n",
        "\n",
        "  # Visualize the test data\n",
        "  plt.scatter(X_test[:, 0], X_test[:, 1], c=test_cluster_labels, cmap='viridis')\n",
        "  plt.title('K-means Clustering - Test Data')\n",
        "  plt.xlabel('Feature 1')\n",
        "  plt.ylabel('Feature 2')\n",
        "  plt.colorbar()\n",
        "  plt.show()\n",
        "\n",
        "  confusion_matrix = np.zeros((7, 7))\n",
        "\n",
        "  for point, label, pred_cluster in zip(X_test, testrealy, test_cluster_labels):\n",
        "    confusion_matrix[int(label)][int(pred_cluster)]+=1\n",
        "\n",
        "  new_confusion_matrix = np.zeros((7,7))\n",
        "  for i, row in enumerate(confusion_matrix):\n",
        "    row_total = sum(row)\n",
        "    for j, elem in enumerate(row):\n",
        "      new_confusion_matrix[i][j] = elem/row_total\n",
        "\n",
        "  sns.heatmap(new_confusion_matrix, annot=True)\n",
        "\n",
        "\n",
        "kmeans(trainlatent, testlatent, trainrealy, testrealy, 7)"
      ],
      "id": "4782f854"
    },
    {
      "cell_type": "code",
      "execution_count": 64,
      "metadata": {
        "id": "fq7vkgXFinjt"
      },
      "outputs": [],
      "source": [],
      "id": "fq7vkgXFinjt"
    },
    {
      "cell_type": "code",
      "execution_count": null,
      "metadata": {
        "id": "OethNkwGCb-o"
      },
      "outputs": [],
      "source": [],
      "id": "OethNkwGCb-o"
    },
    {
      "cell_type": "code",
      "execution_count": null,
      "metadata": {
        "colab": {
          "background_save": true
        },
        "id": "DG5hd4ioYkqA"
      },
      "outputs": [],
      "source": [
        "#N = 4 and N = 6 there are 4 and 6 dimensions so its harder to see these in spaces\n",
        "#Maybe look at confusion matrix what eprcentage of the variable A (Iron oxide) is in cluster 1, 2, 3, 4, 5, 6\n",
        "#See if thats the same in the testing and training data set\n",
        "#Maybe K-Means parametric is different\n",
        "#training on one and another\n",
        "#maybe you can do transform for the k - means (so maybe you can refit where the transform is) because data is distributed differently\n",
        "#clusters mgiht not be put in right latent space\n",
        "#k-means is not parametric because clustering is only dependent on value of data points rather thaan division within space that COuld be parametrized\n",
        "#for every new point that you add, algorithmn would havte to run agian and re-calculate the centers\n",
        "#compare whats in the cluster and whats in the y_label to get a better understanding of how each particle is really distributed if its a strong match or not (heatmap from seaborn)\n",
        "#pyro-ved gives you several different invariants to include\n",
        "#how well distributed is the autoencoder\n",
        "#separate latent spaces for each of the channels\n",
        "\n",
        "#exploring pyroved and different invariants\n",
        "#confusion matrix/seaborn heat map for distribution of point in a clsuter\n",
        "#latent spaces on each of the channels so have 4 separate autoencoders (4 graphs)\n",
        "#everything was divided by the maximum --> maybe potentially log scaletd\n",
        "#separate two channels relatde to incadescene and two channels related to light (red and blue are like wavelength ranges. based on eye color - visible range of light)\n",
        "#have two autoencoders --> one for the two incadescense channels (red and blue) and the two scattering channels channels (wavelengths of the lasers)\n",
        "\n",
        "#0 : scattering channel\n",
        "#1: blue channel\n",
        "#2: red channel\n",
        "#3 : position sensitive detector\n",
        "\n",
        "\n",
        "#n-latent as well\n",
        "\n",
        "#UMAP and TSNE\n",
        "#UMap is a little more interpretable and better than tsne"
      ],
      "id": "DG5hd4ioYkqA"
    },
    {
      "cell_type": "code",
      "execution_count": null,
      "metadata": {
        "id": "Dddlri2UxsgZ"
      },
      "outputs": [],
      "source": [
        "# import umap\n",
        "# reducer = map.UMAP()\n",
        "# Embedding = reducer.fit_transform(train_cluster_labels)\n",
        "# plt.scatter(embedding[:, 0], embedding[:, 1],\n",
        "#     c=[sns.color_palette()[x] for x in target_names.map({“FS”:0, “FSglyc”:1, “CFA”:2, “ATD”:3, “VA”: 4, “Fe203”, “Fe304”})])"
      ],
      "id": "Dddlri2UxsgZ"
    },
    {
      "cell_type": "code",
      "execution_count": null,
      "metadata": {
        "id": "kPleFnX4UlV9"
      },
      "outputs": [],
      "source": [],
      "id": "kPleFnX4UlV9"
    }
  ],
  "metadata": {
    "colab": {
      "provenance": [],
      "machine_shape": "hm"
    },
    "kernelspec": {
      "display_name": "Python 3",
      "name": "python3"
    },
    "language_info": {
      "codemirror_mode": {
        "name": "ipython",
        "version": 3
      },
      "file_extension": ".py",
      "mimetype": "text/x-python",
      "name": "python",
      "nbconvert_exporter": "python",
      "pygments_lexer": "ipython3",
      "version": "3.9.15"
    }
  },
  "nbformat": 4,
  "nbformat_minor": 5
}